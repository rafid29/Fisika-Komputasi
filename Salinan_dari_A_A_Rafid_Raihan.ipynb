{
  "nbformat": 4,
  "nbformat_minor": 0,
  "metadata": {
    "colab": {
      "name": "Salinan dari A.A_Rafid_Raihan.ipynb",
      "provenance": [],
      "toc_visible": true
    },
    "kernelspec": {
      "name": "python3",
      "display_name": "Python 3"
    },
    "language_info": {
      "name": "python"
    }
  },
  "cells": [
    {
      "cell_type": "markdown",
      "source": [
        "TIPE DATA, OPERATOR, DAN PEMILIHAN"
      ],
      "metadata": {
        "id": "3Ju-kiAB1vdQ"
      }
    },
    {
      "cell_type": "code",
      "source": [
        "#LATIHAN 2\n",
        "import math\n",
        "r = int (input (\"resistansi\"))\n",
        "l = int (input (\"induktansi\"))\n",
        "c = int ( input (\"kapasitansi\"))\n",
        "w = int ( input (\"frekuensi\"))\n",
        "\n",
        "xl = w*l\n",
        "xc = (1/(w*c)) \n",
        "z = math.sqrt(r**2+(xl-xc**2))\n",
        "\n",
        "print (\"reaktansi xl= %0.2f\" % xl)\n",
        "print (\"reaktansi xc= %0.2f\" % xc)\n",
        "print (\"impedansi Z= %0.2f\" % z)"
      ],
      "metadata": {
        "id": "tgBm1Jun33kD"
      },
      "execution_count": null,
      "outputs": []
    },
    {
      "cell_type": "code",
      "source": [
        "#LATIHAN 1\n",
        "x = int (input(\"nilai pertama =\"))\n",
        "m = int (input (\"nilai kedua =\"))\n",
        "\n",
        "k = x*m \n",
        "l = x+m\n",
        "o = x/ m\n",
        "j = x-m\n",
        "print (\" nilai perkalian = %0.2f\" % k)\n",
        "print (\"nilai penambahan= %0.2f\" % l)\n",
        "print (\"nilai pembagian = %0.2f\" % o)\n",
        "print (\" nilai pengurangan = %0.2f\" %j)"
      ],
      "metadata": {
        "id": "MVAmThwh2ZmR"
      },
      "execution_count": null,
      "outputs": []
    },
    {
      "cell_type": "code",
      "source": [
        "#LATIHAN 3\n",
        "v = int (input(\"kelajuan awal=\"))\n",
        "teta = int (input(\"sudut tembak\"))\n",
        "PX = int (input(\"posisi awal x\"))\n",
        "py = int (input (\"posisi awal y \"))\n",
        "import math\n",
        "n = teta*np.pi"
      ],
      "metadata": {
        "id": "OFy0rPgI6oeu"
      },
      "execution_count": null,
      "outputs": []
    },
    {
      "cell_type": "code",
      "source": [
        "#LATIHAN 4\n",
        "import math\n",
        "r = int (input(\"resistansi= \"))\n",
        "c = int (input(\"kapasitansi= \"))\n",
        "e = int (input(\"tegangan= \"))\n",
        "t = float(input(\"wakttu= \"))\n",
        "\n",
        "qt = c*e*(1-math.exp(-t/(r*c)))\n",
        "it = (e/r)*(math.exp(-t/(r*c)))\n",
        "\n",
        "print (\"muatan kapasitor =\", round (qt,3))\n",
        "print (\"arus kapasitor =\", round (it, 4))"
      ],
      "metadata": {
        "id": "W3Q1JunV6aZ5"
      },
      "execution_count": null,
      "outputs": []
    },
    {
      "cell_type": "markdown",
      "source": [
        "PENGULANGAN DAN DATA TERSTRUKTUR"
      ],
      "metadata": {
        "id": "41A_zH695FBL"
      }
    },
    {
      "cell_type": "code",
      "source": [
        "#LATIHAN 1\n",
        "c = int( input( \"temperatur awal= \"))\n",
        "tf = int(input (\" temperatur akhir= \"))\n",
        "dt = int(input (\" kenaikan\"))\n",
        "\n",
        "print (\"--------------------------------------\")\n",
        "print (\"c,     r,      f,       k,       wujud\")\n",
        "print (\"--------------------------------------\")\n",
        "\n",
        "for c in range (0,250, 1):\n",
        "    r = 4/5*c # celcius ke reamur\n",
        "    f = 9/5*c+32 #celcius ke farenhent\n",
        "    k = c+ 273 #celcius ke kelvin\n",
        "    if (c<0):\n",
        "        W = \"beku\"\n",
        "    elif (c>100):\n",
        "        W = \"Uap\"\n",
        "    else:\n",
        "        W = \" cair\"\n",
        "print (c,    r,      f,     k,  )\n",
        "print (\"----------------------------------------\")"
      ],
      "metadata": {
        "id": "SGSjHTjF5ONM"
      },
      "execution_count": null,
      "outputs": []
    },
    {
      "cell_type": "code",
      "source": [
        "#LATIHAN 2\n",
        "f = float (input( \"jarak fokus= \"))\n",
        "so = float (input(\"jarak awal= \"))\n",
        "h = float (input(\"tinggi benda= \"))\n",
        "ds= float (input(\"pergeseran = \"))\n",
        "s = so\n",
        "print (\"s,       h\")\n",
        "while s <3*f:\n",
        "    c= 2*f\n",
        "    d = s*f/(s-f)\n",
        "    m = -d/s\n",
        "    k= m*h\n",
        "    if s < f:\n",
        "        sifat = \"maya - tegak - diperbesar\"\n",
        "    elif s == f:\n",
        "        sifat = \"tidak terbentuk \"\n",
        "    elif s<c :\n",
        "        sifat = \"nyata - terbalik - diperbesar\"\n",
        "    elif s==c :\n",
        "        sifat = \"nysts - terbalik - sama besar\"\n",
        "    else:\n",
        "        sifat = \"nyata- -terbalik- diperkecil\"\n",
        "print (\"%8.1f\" %s, \"%8.1f\" %h, \"%8.1f\" %d, \"%8.1f\" %k, \"%8.1f\" %m, sifat)\n"
      ],
      "metadata": {
        "id": "R1p3DGiz5h35"
      },
      "execution_count": null,
      "outputs": []
    },
    {
      "cell_type": "markdown",
      "source": [
        "SUB PROGRAM DAN FILE DATA "
      ],
      "metadata": {
        "id": "sA_x-Epb5-DP"
      }
    },
    {
      "cell_type": "code",
      "source": [
        "#LATIHAN 1\n",
        "print(\"PROGRAM NOMOR 1\")\n",
        "a = float(input('Masukkan bilangan pertama ='))\n",
        "b = float(input('Masukkan bilangan kedua ='))\n",
        "\n",
        "def Tampilan ():\n",
        "    print ('Bilangan pertama = ',a)\n",
        "    print('Bilangan kedua = ',b)\n",
        "\n",
        "def Perkalian ():\n",
        "    print('Hasil perkalian =', a*b)\n",
        "\n",
        "Tampilan()\n",
        "Perkalian()"
      ],
      "metadata": {
        "id": "4bM0Q9NU6DMJ"
      },
      "execution_count": null,
      "outputs": []
    },
    {
      "cell_type": "code",
      "source": [
        "#LATIHAN 2\n",
        "\n",
        "m1 = float(input(\"Input massa benda 1 =\"))\n",
        "m2 = float(input(\"Input massa benda 2 =\"))\n",
        "v1 = float(input(\"Input kecepatan dari benda 1 =\"))\n",
        "v2 = float(input(\"Input kecepatan dari benda 2 =\"))\n",
        "v1t = float(input(\"Input kecepatan akhir benda 1 =\"))\n",
        "v2t = float(input(\"Input kecepatan akhir benda 2 =\"))   \n",
        "\n",
        "def masukan () :  \n",
        "    print()\n",
        "    print(\"Data Input Program\")\n",
        "    print(\"==================================================\")\n",
        "    print(\"Nilai massa benda 1 :\", m1)\n",
        "    print(\"Nilai massa benda 2 :\", m2)\n",
        "    print(\"Nilai kecepatan awal benda 1 :\",v1)\n",
        "    print(\"Nilai kecepatan awal benda 1 :\", v2)\n",
        "    print(\"Nilai kecepatan akhir benda 1 : \", v1t)\n",
        "    print(\"Nilai kecepatan akhir benda 2 : \",v2t)\n",
        "    print(\"==================================================\")\n",
        "    \n",
        "def KR (v1,v2,v1t,v2t):\n",
        "    if v1==v2:\n",
        "        e = \"Tidak dapat didefinisikan\"\n",
        "    else:\n",
        "         e = -(v2t-v1t)/(v2-v1)\n",
        "    print()\n",
        "    print(\"Nilai Koefisien Restitusi = \",e)\n",
        "    return e\n",
        "\n",
        "def ProsedurTumbukan () :\n",
        "    if v1 == v2:\n",
        "        sifat =\"Tidak dapat ditentukan tumbukannya\"\n",
        "    elif e == 0:\n",
        "        sifat =\"Tumbukan yang terjadi tidak melenting\"\n",
        "    elif 0 < e <1 :\n",
        "         sifat =\"TUmbukan yang terjadi lenting sebagian\"\n",
        "    elif e ==1:\n",
        "         sifat =\"Tumbukan yang terjadi lenting sempurna\"\n",
        "    else :\n",
        "        sifat = \"Tidak terjadi tumbukan \"\n",
        "def Keluaran () :\n",
        "    print()\n",
        "    print(\"==================================================\")\n",
        "    print(\"Kesimpulan, nilai koefisien restitusi = \",e,\" dan \", ProsedurTumbukan )\n",
        "    print(\"==================================================\")\n",
        "masukan()\n",
        "e = KR(v1,v2,v1t,v2t)\n",
        "ProsedurTumbukan()\n",
        "Keluaran ()\n"
      ],
      "metadata": {
        "id": "YHVTpfzC7uJc"
      },
      "execution_count": null,
      "outputs": []
    },
    {
      "cell_type": "markdown",
      "source": [
        "PLOT DATA DAN SIMULASI DASAR"
      ],
      "metadata": {
        "id": "VdZIq3cZ8KOO"
      }
    },
    {
      "cell_type": "code",
      "source": [
        "#LATIHAN 1\n",
        "import numpy as np\n",
        "import matplotlib.pyplot as plt\n",
        "x = np.linspace(-1, 3, 300)\n",
        "y = 3*x**2\n",
        "plt.plot (x,y, 'g-.', label = 'plot fungsi')\n",
        "plt.xlabel ('sumbu X')\n",
        "plt.ylabel ('sumbu y')\n",
        "plt.show()"
      ],
      "metadata": {
        "id": "c8ObDmhR8OpP"
      },
      "execution_count": null,
      "outputs": []
    },
    {
      "cell_type": "code",
      "source": [
        "#LATIHAN 2\n",
        "import numpy as np\n",
        "import matplotlib.pyplot as plt\n",
        "\n",
        "x = np.linspace (-15, 15, 300)\n",
        "fngs = np.cos(x*(180/np.pi))/(1+(1/5)*x)\n",
        "\n",
        "plt.plot(x, fngs)\n",
        "plt.xlabel ('sumbu x')\n",
        "plt.ylabel ('sumbu y')\n",
        "plt.grid (color= 'darkgrey', linestyle= '--', linewidth= 1)\n",
        "plt.show()"
      ],
      "metadata": {
        "id": "G0KelJ3N8clz",
        "outputId": "cba714fe-f750-46d5-e5c3-8a96f2ab0fdf",
        "colab": {
          "base_uri": "https://localhost:8080/",
          "height": 279
        }
      },
      "execution_count": null,
      "outputs": [
        {
          "output_type": "display_data",
          "data": {
            "text/plain": [
              "<Figure size 432x288 with 1 Axes>"
            ],
            "image/png": "[encoded data removed]"
          },
          "metadata": {
            "needs_background": "light"
          }
        }
      ]
    },
    {
      "cell_type": "code",
      "source": [
        "#LATIHAN 3\n",
        "#plot1\n",
        "import numpy as np\n",
        "import matplotlib.pyplot as plt\n",
        "x = np.linspace (-1, 3, 100)\n",
        "y = 3*x**2\n",
        "plt.subplot (1, 2, 1)\n",
        "plt.plot (x,y, 'g-.', label = 'figure 1')\n",
        "plt.grid (color= 'darkgrey', linestyle= '--', linewidth= 1)\n",
        "#plot 2 \n",
        "x = np.linspace (-15, 15, 300)\n",
        "fngs = np.cos(x*(180/np.pi))/(1+(1/5)*x) # cos radian di ubah ke cos derajar\n",
        "plt.subplot (1, 2, 2)\n",
        "plt.plot(x, fngs, 'g', label = 'figure 2')\n",
        "plt.xlabel ('sumbu x')\n",
        "plt.ylabel ('sumbu y')\n",
        "plt.grid (color= 'darkgrey', linestyle= '--', linewidth= 1)\n",
        "\n",
        "plt.show()"
      ],
      "metadata": {
        "id": "TQNzenkY_B0p"
      },
      "execution_count": null,
      "outputs": []
    },
    {
      "cell_type": "code",
      "source": [
        "#LATIHAN 4\n",
        "import numpy as np\n",
        "import matplotlib.pyplot as plt\n",
        "import matplotlib.animation as anim\n",
        "\n",
        "#cont\n",
        "a = 0.25\n",
        "b = 2\n",
        "u = 1\n",
        "k = 0\n",
        "#membuat array\n",
        "\n",
        "def sistem(k,t):\n",
        "    for k in range (1,100,1):\n",
        "      x=0\n",
        "      x = (1-t*a)*x+t*b*u(k)\n",
        "    return \n"
      ],
      "metadata": {
        "id": "2soT59LN_Eew"
      },
      "execution_count": null,
      "outputs": []
    },
    {
      "cell_type": "markdown",
      "source": [
        "AKAR PERSAMAAN, INTERGRAL, DAN DIFRENSIAL NUMERIK"
      ],
      "metadata": {
        "id": "X-Lb1RKh_XtA"
      }
    },
    {
      "cell_type": "code",
      "source": [
        ""
      ],
      "metadata": {
        "id": "1sDVIsr9_dkc"
      },
      "execution_count": null,
      "outputs": []
    },
    {
      "cell_type": "markdown",
      "source": [
        "CURVE VITTING"
      ],
      "metadata": {
        "id": "SfLwyJHQ_wHJ"
      }
    },
    {
      "cell_type": "code",
      "source": [
        "import matplotlib.pyplot as plt\n",
        "from numpy import *\n",
        "\n",
        "xi = array([0,1,2,3,4,5,6,7,8,9])\n",
        "yi = array([1,3,2,5,7,8,8,9,10,12])\n",
        "\n",
        "n = size(xi)\n",
        "print(n)\n",
        "jumx = 0; jumy = 0; jumxy = 0; jumx2 = 0;jumy2 = 0\n",
        "for i in range (0,n):\n",
        "    jumx += xi[i]\n",
        "    jumy += yi[i]\n",
        "    jumxy += xi[i]*yi[i]\n",
        "    jumx2 += xi[i]*xi[i]\n",
        "    jumy2 += yi[i]*yi[i]\n",
        "\n",
        "xrerata = jumx/n\n",
        "yrerata = jumy/n\n",
        "\n",
        "a1 = (n*jumxy - jumx*jumy)/(n*jumx2 - jumx*jumx)\n",
        "a0 = yrerata - a1*xrerata\n",
        "\n",
        "print('y =','%3.2f' %(a1), '+', '%3.2f'% (a0), 'x')\n",
        "\n",
        "y_pred = []\n",
        "for i in range (0,n):\n",
        "    yy = a0 +a1*xi[i]\n",
        "    y_pred.append(yy)\n",
        "\n",
        "S_xx = jumx2 - (jumx*jumy/n)\n",
        "S_yy = jumy2 - (jumx*jumy/n)\n",
        "S_xy = jumxy - (jumx*jumy/n)\n",
        "\n",
        "akar_Sxx = sqrt(S_xx)\n",
        "akar_Syy = sqrt(S_yy)\n",
        "\n",
        "r_xy = S_xy / (akar_Sxx*akar_Syy)\n",
        "r2 = r_xy**2\n",
        "print ('koefisien korelasi =', '%3.2f' %r_xy)\n",
        "print ('koefisien determinasi =', '%3.2f' %r2)\n",
        "\n",
        "plt.scatter(xi,yi, label = 'data')\n",
        "plt.plot(xi,y_pred,'b-', label = ' regresi linear')\n",
        "plt.xlabel('x')\n",
        "plt.ylabel('y')\n",
        "plt.show()"
      ],
      "metadata": {
        "id": "noHds9oc_z1p"
      },
      "execution_count": null,
      "outputs": []
    },
    {
      "cell_type": "markdown",
      "source": [
        "PERSAMAAN DEFERENSIAL PARSIAL"
      ],
      "metadata": {
        "id": "O_y71JA7DBtr"
      }
    },
    {
      "cell_type": "code",
      "source": [
        "#LATIHAN 1\n",
        "\n",
        "import numpy as np\n",
        "import matplotlib.pyplot as plt\n",
        "\n",
        "x = 6\n",
        "y = 5\n",
        "\n",
        "#membuat matriks awal\n",
        "T = np.zeros((x,y))\n",
        "print (T)\n",
        "\n",
        "#mengatur nilai di syarat batas\n",
        "T[(x-1):, :] = 0 #BATAS BAWAH\n",
        "T[:1, :] = 100 #BATAS ATAS\n",
        "T[:, (y-1):] = 50 #BATAS KANAN\n",
        "T[:, :1] = 0 #BATAS KIRI\n",
        "\n",
        "print(T)\n",
        "\n",
        "t_jac = T.copy()\n",
        "maxIt = 1000\n",
        "tol = 1e-10\n",
        "itnum = 0 #nilai awal perhitungan iterasi\n",
        "change = tol+1 #otal perubahan kuadrat relatif antara setia iterasi\n",
        "\n",
        "print (t_jac [1:-1, 1:-1])\n",
        "\n",
        "for itnum in range(maxIt):\n",
        "    t_jac[1:-1, 1:-1] = 0.25*(T[2:,  1: -1]+ T[:-2, 1:-1]+ T[1:-1, 2:]+ T[1:-1, :-2])\n",
        "    if itnum %50== 0:\n",
        "        if np.sum(np.abs(t_jac - T))/np.sum(T) < tol:\n",
        "            print ('iterasi : ', itnum + 1)\n",
        "            break\n",
        "        T = t_jac.copy()\n",
        "    if itnum == maxIt - 1:\n",
        "        print ('iterasi maksimum!', maxIt)\n",
        "print (t_jac)\n",
        "\n",
        "#plot\n",
        "fig, ax = plt.subplots ()\n",
        "im = ax.imshow(t_jac)\n",
        "\n",
        "for i in range (x):\n",
        "  for j in range (y):\n",
        "    text = ax.text(j, i, round (t_jac[i,j], 1), ha='center', va= 'center', color = 'white')\n",
        "\n",
        "ax.set_title('TEMPERATUR')\n",
        "fig.tight_layout()\n",
        "plt.show ()"
      ],
      "metadata": {
        "id": "U0IkHkg-DMZg"
      },
      "execution_count": null,
      "outputs": []
    },
    {
      "cell_type": "code",
      "source": [
        "#LATIHAN 2 (a= DFT)\n",
        "import numpy as  np\n",
        "from numpy import random as rnd\n",
        "\n",
        "def DFT (x):\n",
        "  n = len (x)\n",
        "  y = [0]*n\n",
        "  omg = np.exp (-2.0j*np.pi/n)\n",
        "  for i in range  (0, n):\n",
        "    y[i] = np.sum (x*omg**(np.arange (0, n)*i))\n",
        "    return y\n",
        "\n",
        "def invrDFT (y):\n",
        "  n = len (y)\n",
        "  x = [0]*n\n",
        "  omg = np.exp (-2.0j*np.pi/n)\n",
        "  for i in range (0, n):\n",
        "    x[i] = np.sum(y*omg**(np.arange(0, n)*i))/ float (n)\n",
        "    return x\n",
        "\n",
        "x = np.array ([1, 4, 8, 16]) #data array yang digunakan ini acak, jika digantikan dengan data soal yang ada diperbolehkan\n",
        "print ('x = ', x)\n",
        "\n",
        "y = DFT(x)\n",
        "print ('y= ', np.around(y,2))\n",
        "\n",
        "x = invrDFT(y)\n",
        "print ('x= ', np.around(x,2))"
      ],
      "metadata": {
        "colab": {
          "base_uri": "https://localhost:8080/"
        },
        "id": "_k08pETCLm1a",
        "outputId": "69889871-7b33-40ec-9fc0-a3973272b6d3"
      },
      "execution_count": null,
      "outputs": [
        {
          "output_type": "stream",
          "name": "stdout",
          "text": [
            "x =  [ 1  4  8 16]\n",
            "y=  [29.+0.j  0.+0.j  0.+0.j  0.+0.j]\n",
            "x=  [7.25+0.j 0.  +0.j 0.  +0.j 0.  +0.j]\n"
          ]
        }
      ]
    },
    {
      "cell_type": "code",
      "source": [
        "#b\n",
        "import numpy as np \n",
        "import matplotlib.pyplot as plt\n",
        "import time \n",
        "from cmath import exp, pi\n",
        "#input signal\n",
        "n= 4\n",
        "w = exp((-1j)*(2*pi)/n)\n",
        "print(w)\n",
        "\n",
        "n=4\n",
        "f = [0,1,2,3]\n",
        "\n",
        "fgnp = f[0::2]\n",
        "fgnj = f[1::2]\n",
        "print(fgnp)\n",
        "print(fgnj)\n",
        "\n",
        "fpp = fgnp[0::2]\n",
        "fpj = fgnp[1::2]\n",
        "print(fpp)\n",
        "print(fpj)\n",
        "\n",
        "re0 =fpp[0]+ exp(-2j*pi*0/n)*fpj[0]\n",
        "re1 =fpp[0]- exp(-2j*pi*0/n)*fpj[0]\n",
        "ree= [re0,re1]\n",
        "print(ree)\n",
        "\n",
        "fjp = fgnj[0::2]\n",
        "fjj = fgnj[1::2]\n",
        "print(fpp)\n",
        "print(fpj)\n",
        "\n",
        "re3 =fjp[0]+ exp(-2j*pi*0/n)*fjj[0]\n",
        "re4 =fjp[0]- exp(-2j*pi*0/n)*fjj[0]\n",
        "reo= [re3,re4]\n",
        "print(reo)\n",
        "\n",
        "res00 =ree[0] + exp(-2j*pi*0/n)*reo[0]\n",
        "res02 =ree[0]-exp(-2j*pi*0/n)*reo[0]\n",
        "\n",
        "res11 =ree[1] + exp(-2j*pi*1/n)*reo[1]\n",
        "res12 =ree[1]-exp(-2j*pi*1/n)*reo[1]\n",
        "\n",
        "fm = np.array([res00,res12,res02,res12]).astype(np.complex64)\n",
        "print(fm)\n"
      ],
      "metadata": {
        "id": "NxME2SH0RAOs"
      },
      "execution_count": null,
      "outputs": []
    },
    {
      "cell_type": "markdown",
      "source": [
        "soal latihan 3  gambarkan plot f(x) = 0.5 - (2/pi)*(sin(x)/1+sin(3*x)/3+sin(5*x)/5.......sin(9*x)/7+sin(9*x)/9) , n =ganjil"
      ],
      "metadata": {
        "id": "AGl9sRlXzV_l"
      }
    },
    {
      "cell_type": "code",
      "source": [
        "#LATIHAN 3\n",
        "import matplotlib.pyplot as plt\n",
        "import numpy as np\n",
        "\n",
        "def fbn(x,n):\n",
        "  return np.sin(n*x)/n\n",
        "\n",
        "x = np.arange (-3*np.pi, 3*np.pi, 0.1)\n",
        "max_m = 5 #jumlah suku maksimum yang ditinjau\n",
        "m =1\n",
        "while m <= max_m:\n",
        "  n = 2*m-1\n",
        "  sumY = fbn (x,n)\n",
        "y = 0.5 - (2/np.pi)*(np.sin(x)/1+np.sin(3*x)/3+np.sin(5*x)/5++np.sin(9*x)/7+np.sin(9*x)/9)\n",
        "plt.plot(x,y)\n",
        "plt.grid()\n",
        "plt.show()"
      ],
      "metadata": {
        "id": "6WG4rqpzqeXF"
      },
      "execution_count": null,
      "outputs": []
    }
  ]
}